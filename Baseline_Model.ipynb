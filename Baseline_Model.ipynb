{
  "nbformat": 4,
  "nbformat_minor": 0,
  "metadata": {
    "colab": {
      "provenance": []
    },
    "kernelspec": {
      "name": "python3",
      "display_name": "Python 3"
    },
    "language_info": {
      "name": "python"
    }
  },
  "cells": [
    {
      "cell_type": "markdown",
      "source": [
        "## Baseline Model"
      ],
      "metadata": {
        "id": "W7PCmTLDV8wK"
      }
    },
    {
      "cell_type": "markdown",
      "source": [
        " Defining a function to create a simple product description by combining the product title, product type ID, and bullet points from the input text."
      ],
      "metadata": {
        "id": "gmxHNT4c5LNm"
      }
    },
    {
      "cell_type": "code",
      "source": [
        "def generate_baseline_description(row):\n",
        "    try:\n",
        "        # Extract title, product_type_id, and bullet_points from the input_text\n",
        "        input_text = row['input_text']\n",
        "\n",
        "        # parsing fields out from the combined input_text\n",
        "        title = input_text.split(\"TITLE: \")[-1].split(\" PRODUCT_TYPE_ID: \")[0].strip()\n",
        "        product_type = input_text.split(\"PRODUCT_TYPE_ID: \")[-1].split(\" BULLET_POINTS: \")[0].strip()\n",
        "        bullet_points = input_text.split(\"BULLET_POINTS: \")[-1].strip()\n",
        "\n",
        "        description = (\n",
        "            f\"This {product_type} titled '{title}' features the following: {bullet_points}\"\n",
        "        )\n",
        "        return description\n",
        "    except Exception as e:\n",
        "        print(f\"Error processing row: {e}\")\n",
        "        return \"Description unavailable\"\n",
        "\n",
        "\n",
        "# Apply result to df\n",
        "df_llm_input['generated_baseline'] = df_llm_input.apply(generate_baseline_description, axis=1)"
      ],
      "metadata": {
        "id": "ZqZkCg_qVwk2"
      },
      "execution_count": null,
      "outputs": []
    },
    {
      "cell_type": "markdown",
      "source": [
        "Creating a function to calculate several metrics (BLEU, ROUGE-1, ROUGE-2, BERTScore-F1, and Flesch Reading Ease) to compare the generated descriptions against the target descriptions"
      ],
      "metadata": {
        "id": "HDRmZDKD5nvu"
      }
    },
    {
      "cell_type": "code",
      "source": [
        "## function for evaluation\n",
        "!pip install -q textstat evaluate bert_score\n",
        "\n",
        "from evaluate import load\n",
        "import numpy as np\n",
        "from textstat import flesch_reading_ease\n",
        "\n",
        "# Load evaluation metrics\n",
        "bleu = load(\"bleu\")\n",
        "rouge = load(\"rouge\")\n",
        "bertscore = load(\"bertscore\")\n",
        "\n",
        "def evaluate_model(df, gen_col, ref_col=\"description\", lang=\"en\"):\n",
        "    refs = df[ref_col].fillna(\"\").tolist()\n",
        "    gens = df[gen_col].fillna(\"\").tolist()\n",
        "\n",
        "    # BLEU\n",
        "    bleu_score = bleu.compute(predictions=gens, references=[[r] for r in refs])['bleu']\n",
        "\n",
        "    # ROUGE\n",
        "    rouge_scores = rouge.compute(predictions=gens, references=refs)\n",
        "    rouge1 = rouge_scores['rouge1']\n",
        "    rouge2 = rouge_scores['rouge2']\n",
        "\n",
        "    # BERTScore\n",
        "    bert = bertscore.compute(predictions=gens, references=refs, lang=lang)\n",
        "    bert_f1 = np.mean(bert['f1'])\n",
        "\n",
        "    # Flesch Reading Ease\n",
        "    flesch_scores = [flesch_reading_ease(text) for text in gens]\n",
        "    flesch_avg = np.mean(flesch_scores)\n",
        "\n",
        "    # Display\n",
        "    print(f\"\\nEvaluation for Model: {gen_col}\")\n",
        "    print(f\"BLEU Score         : {bleu_score:.4f}\")\n",
        "    print(f\"ROUGE-1 Score      : {rouge1:.4f}\")\n",
        "    print(f\"ROUGE-2 Score      : {rouge2:.4f}\")\n",
        "    print(f\"BERTScore-F1       : {bert_f1:.4f}\")\n",
        "    print(f\"Flesch Reading Ease: {flesch_avg:.2f}\")\n",
        "\n",
        "    return {\n",
        "        \"BLEU\": bleu_score,\n",
        "        \"ROUGE-1\": rouge1,\n",
        "        \"ROUGE-2\": rouge2,\n",
        "        \"BERTScore-F1\": bert_f1,\n",
        "        \"Flesch\": flesch_avg\n",
        "    }"
      ],
      "metadata": {
        "id": "-ZW95qWVWUDD"
      },
      "execution_count": null,
      "outputs": []
    },
    {
      "cell_type": "code",
      "source": [
        "# baseline metrics\n",
        "results_baseline = evaluate_model(df_llm_input, gen_col='generated_baseline', ref_col='target_description')"
      ],
      "metadata": {
        "colab": {
          "base_uri": "https://localhost:8080/"
        },
        "id": "8ZLMe4pVWciB",
        "outputId": "c3333f9b-6738-4fba-d19e-c1103fd0bba7"
      },
      "execution_count": null,
      "outputs": [
        {
          "output_type": "stream",
          "name": "stderr",
          "text": [
            "Some weights of RobertaModel were not initialized from the model checkpoint at roberta-large and are newly initialized: ['pooler.dense.bias', 'pooler.dense.weight']\n",
            "You should probably TRAIN this model on a down-stream task to be able to use it for predictions and inference.\n",
            "/usr/local/lib/python3.11/dist-packages/torch/nn/modules/module.py:1750: FutureWarning: `encoder_attention_mask` is deprecated and will be removed in version 4.55.0 for `RobertaSdpaSelfAttention.forward`.\n",
            "  return forward_call(*args, **kwargs)\n"
          ]
        },
        {
          "output_type": "stream",
          "name": "stdout",
          "text": [
            "\n",
            "Evaluation for Model: generated_baseline\n",
            "BLEU Score         : 0.1006\n",
            "ROUGE-1 Score      : 0.2889\n",
            "ROUGE-2 Score      : 0.1271\n",
            "BERTScore-F1       : 0.8336\n",
            "Flesch Reading Ease: 33.60\n"
          ]
        }
      ]
    },
    {
      "cell_type": "code",
      "source": [
        "import re\n",
        "\n",
        "# Extract original metadata from input_text column\n",
        "def extract_fields(text):\n",
        "    pattern = r\"TITLE: (.*?) PRODUCT_TYPE_ID: (.*?) BULLET_POINTS: (.*)\"\n",
        "    match = re.match(pattern, text)\n",
        "    if match:\n",
        "        return match.groups()\n",
        "    return (\"\", \"\", \"\")\n",
        "\n",
        "extracted = df_llm_input['input_text'].apply(extract_fields)\n",
        "df_llm_input[['title', 'product_type_id', 'bullet_points']] = pd.DataFrame(extracted.tolist(), index=df_llm_input.index)\n",
        "\n",
        "# original vs generated descriptions\n",
        "for i in range(2):\n",
        "    print(f\"Product Title:\\n{df_llm_input.loc[i, 'title']}\")\n",
        "    print(f\"\\n* Original Description:\\n{df_llm_input.loc[i, 'target_description']}\")\n",
        "    print(f\"\\n🤖 Generated Desc by Baseline model):\\n{df_llm_input.loc[i, 'generated_baseline']}\")\n",
        "    print('---' * 20)"
      ],
      "metadata": {
        "colab": {
          "base_uri": "https://localhost:8080/"
        },
        "id": "C5-bGXkOZ7Zc",
        "outputId": "40c1e283-4901-47b4-81ef-df51bb1d803f"
      },
      "execution_count": null,
      "outputs": [
        {
          "output_type": "stream",
          "name": "stdout",
          "text": [
            "Product Title:\n",
            "Plane Light System, Plastic + Metal Taxi Lights Airplane LED Light, for Model Plane\n",
            "\n",
            "* Original Description:\n",
            "Features:&nbsp;<br> Full set of bright LED lights for your model plane or glider. <br> Use the power supplied by the receiver and don't require its own battery. <br> The circuitry has been specially designed so that the landing lights and taxi lights can be switched on and off directly. <br> Either use a Y-harness and link it to another channel such as the gear or assign a separate channel to it. <br> It includes red beacon light, white taxi light, white strobe light, white landing light, green navigation light, red navigation light. <br> <br>Specification:&nbsp;<br>Material: Plastic + Metal<br>Color: Shown As Pictures<br>Weight: 111g<br>Type: RC Part &amp; Accessory<br>Control Board Size: Approx. 54 * 35 * 13mm / 2.1 * 1.4 * 0.5inch<br> Cable Size: Approx. OD 0.8mm*0.8m <br> LED Quantity: 14pcs <br>Lighting System Specification:<br>2 x Red Beacon Lights (#11, #12), 600 MCD<br>3 x White Taxi Lights (#6, #8, #10) , 10000 - 13000MCD<br>3 x White Strobe Lights (#5, #7, #9), 10000 - 13000MCD<br>2 x White Landing Lights (#2, #4), 1200 - 1400MCD<br>1 x Green Navigation lights (#1), 12000 - 15000MCD<br>1 x Red Navigation Lights (#3), 600MCD<br><br>Package Includes:<br>1 x Set of LED Flashing Lights<br>\n",
            "\n",
            "🤖 Generated Desc by Baseline model):\n",
            "This 1149 titled 'Plane Light System, Plastic + Metal Taxi Lights Airplane LED Light, for Model Plane' features the following: [Full set of bright LED lights for your model plane or glider,Use the power supplied by the receiver and don't require its own battery,The circuitry has been specially designed so that the landing lights and taxi lights can be switched on and off directly,Either use a Y-harness and link it to another channel such as the gear or assign a separate channel to it,It includes red beacon light, white taxi light, white strobe light, white landing light, green navigation light, red navigation light.]\n",
            "------------------------------------------------------------\n",
            "Product Title:\n",
            "DECOR Kafe Home Decor Sunflower Wall Sticker, Wall Sticker for Bedroom, Wall Art, Wall Poster (PVC Vinyl, 40 X 76 cm)\n",
            "\n",
            "* Original Description:\n",
            "Welcome To The Foremost Place On The Web To Find Artistic Designs Of Wall Decals And Wall Stickers Wall Decals And Wall Stickers Are Self-Adhesive Vinyl Stickers .They Are A Great Alternative To Wallpaper, Paint Or Stencils And They Give You Choice. Choose Your Space, Plan the Design You?d like to Make, And Then Apply. They Are Extremely Durable And Are Available In Various Designs. It?s Extremely Easy to Apply Them on Your Walls or Any Flat, Smooth Surface. We are also deals in Customize Wall Stickers and Wall paper, Please send us message from your amazon account.\n",
            "\n",
            "🤖 Generated Desc by Baseline model):\n",
            "This 6030 titled 'DECOR Kafe Home Decor Sunflower Wall Sticker, Wall Sticker for Bedroom, Wall Art, Wall Poster (PVC Vinyl, 40 X 76 cm)' features the following: [Size Small - 40cms X 76cms & Color Brown,Customizations is Possible as per Requirement,Material: Matte Finish Colored PVC/Vinyl Film,Very Affordable, Easy to Apply, and Maintain.,Packaging: One Wall Sticker with Installation manual in Hard Paper Tube]\n",
            "------------------------------------------------------------\n"
          ]
        }
      ]
    },
    {
      "cell_type": "markdown",
      "source": [
        "Analysis:\n",
        "* The BLEU (0.1006), ROUGE-1 (0.2889), ROUGE-2 (0.1271) scores are relatively low, which is expected for the baseline model that mainly concatenates input features rather than generating natural language. They indicate limited overlap in terms of n-grams (BLEU, ROUGE-2) and unigrams (ROUGE-1) between the generated and target descriptions.\n",
        "* The BERTScore-F1 (0.8336) score is higher meaning the generated descriptions capture some of the semantic meaning of the target descriptions.\n",
        "* The Flesch Reading Ease (33.60) score indicates that the generated descriptions are quite difficult to read. This is probably due to the concatenated nature of the baseline description."
      ],
      "metadata": {
        "id": "U-UytxFG6eif"
      }
    }
  ]
}